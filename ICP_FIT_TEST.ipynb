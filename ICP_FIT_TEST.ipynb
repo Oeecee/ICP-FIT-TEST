{
  "cells": [
    {
      "cell_type": "code",
      "execution_count": null,
      "metadata": {
        "colab": {
          "background_save": true,
          "base_uri": "https://localhost:8080/"
        },
        "id": "RK1D1xNhfOzI",
        "outputId": "8e12857e-05d1-40bc-ba7f-14aa92dbdd35"
      },
      "outputs": [
        {
          "name": "stdout",
          "output_type": "stream",
          "text": [
            "The output file 'output_file.csv' was created successfully.\n"
          ]
        }
      ],
      "source": [
        "import pandas as pd\n",
        "import os\n",
        "\n",
        "def classify_icp(input_csv, output_csv):\n",
        "    # Read the input CSV file\n",
        "    try:\n",
        "        df = pd.read_csv('Sample_company_dataset - Sheet1 (1).csv')  # Use the input_csv parameter\n",
        "    except FileNotFoundError:\n",
        "        print(f\"Error: File '{input_csv}' not found. Please check the file path.\")\n",
        "        return  # Exit the function if the file is not found\n",
        "\n",
        "    # Convert specific columns to numeric, coercing errors\n",
        "    for column in ['No of Employees', 'Founding year', 'Annual revenue']:\n",
        "        df[column] = pd.to_numeric(df[column], errors='coerce')\n",
        "\n",
        "    # Define the conditions for ICP classification\n",
        "    conditions = [\n",
        "        ((df['No of Employees'] < 6000) & (df['Founding year'] > 2007) &\n",
        "         (df['Annual revenue'] > 100000) & (df['Annual revenue'] < 1000000000)),\n",
        "        ((df['No of Employees'] > 10000) & (df['Founding year'] < 1985) &\n",
        "         ((df['Annual revenue'] < 100000) | (df['Annual revenue'] > 1000000000))),\n",
        "        ((df['No of Employees'] > 6000) & (df['No of Employees'] < 10000) &\n",
        "         (df['Founding year'] > 1985) & (df['Founding year'] < 2007) &\n",
        "         (df['Annual revenue'] > 100000) & (df['Annual revenue'] < 1000000000)),\n",
        "        ((df['No of Employees'] > 50) & (df['No of Employees'] < 150) &\n",
        "         (df['Founding year'] > 2007))\n",
        "    ]\n",
        "\n",
        "    # Define the corresponding values for each condition\n",
        "    values = ['yes', 'no', 'maybe', 'smb']\n",
        "\n",
        "    # Create the 'icp' column with default empty values\n",
        "    df['icp'] = ''\n",
        "\n",
        "    # Apply the conditions to the DataFrame\n",
        "    for condition, value in zip(conditions, values):\n",
        "        df.loc[condition, 'icp'] = value\n",
        "\n",
        "    # Write the updated DataFrame to the output CSV file\n",
        "    df.to_csv(output_csv, index=False)\n",
        "\n",
        "    # Check if the output file was created successfully\n",
        "    if os.path.exists(output_csv):\n",
        "        print(f\"The output file '{output_csv}' was created successfully.\")\n",
        "    else:\n",
        "        print(f\"Failed to create the output file '{output_csv}'.\")\n",
        "\n",
        "# Usage example\n",
        "classify_icp('Sample_company_dataset - Sheet1 (1).csv', 'output_file.csv')\n"
      ]
    }
  ],
  "metadata": {
    "colab": {
      "provenance": []
    },
    "kernelspec": {
      "display_name": "Python 3",
      "name": "python3"
    },
    "language_info": {
      "name": "python"
    }
  },
  "nbformat": 4,
  "nbformat_minor": 0
}